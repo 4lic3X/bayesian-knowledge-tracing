{
 "cells": [
  {
   "cell_type": "markdown",
   "metadata": {},
   "source": [
    "# Process\n",
    "\n",
    "This notebook processes the data from the level 3 assessment. It basically split a single csv file into multiple files, one for each level 3."
   ]
  },
  {
   "cell_type": "code",
   "execution_count": 6,
   "metadata": {},
   "outputs": [],
   "source": [
    "import os\n",
    "\n",
    "DATA_INPTUT_ROOT = \"../../data/csv_oct15_24\"\n",
    "DATA_OUTPUT_ROOT = DATA_INPTUT_ROOT + \"_level3\""
   ]
  },
  {
   "cell_type": "code",
   "execution_count": 11,
   "metadata": {},
   "outputs": [],
   "source": [
    "import re\n",
    "import pandas as pd\n",
    "\n",
    "\n",
    "def extract_level_2_name(path: str) -> str:\n",
    "    \"\"\"\n",
    "    Extract the level 2 name from the path\n",
    "    \"\"\"\n",
    "    # The path is in the format of responses_assessment_level2_1.1.csv\n",
    "    # We want to extract the chapter number from the file name, i.e. 1.1 in this case\n",
    "    pattern = re.compile(r\".*responses_assessment_level2_(\\d+\\.\\d+)\\.csv\")\n",
    "\n",
    "    # Find column from data.columns that match the above pattern and extract out the chapter\n",
    "    match = pattern.match(path)\n",
    "    level_2_name = match.group(1)\n",
    "    return level_2_name\n",
    "\n",
    "\n",
    "def process_data(path: str) -> None:\n",
    "    \"\"\"\n",
    "    Process the data from the file specified by the path.\n",
    "    \"\"\"\n",
    "\n",
    "    if not os.path.exists(DATA_OUTPUT_ROOT):\n",
    "        os.makedirs(DATA_OUTPUT_ROOT)\n",
    "\n",
    "    data = pd.read_csv(path, index_col=0, low_memory=False)\n",
    "\n",
    "    for name, group in data.groupby(\"level3\"):\n",
    "        group.to_csv(f\"{DATA_OUTPUT_ROOT}/level3_{name}.csv\")"
   ]
  },
  {
   "cell_type": "code",
   "execution_count": 12,
   "metadata": {},
   "outputs": [],
   "source": [
    "process_data(f\"{DATA_INPTUT_ROOT}/responses_assessment_level2_2.1.csv\")"
   ]
  },
  {
   "cell_type": "code",
   "execution_count": 13,
   "metadata": {},
   "outputs": [],
   "source": [
    "process_data(f\"{DATA_INPTUT_ROOT}/responses_assessment_level2_3.1.csv\")"
   ]
  },
  {
   "cell_type": "code",
   "execution_count": 14,
   "metadata": {},
   "outputs": [],
   "source": [
    "process_data(f\"{DATA_INPTUT_ROOT}/responses_assessment_level2_4.1.csv\")"
   ]
  },
  {
   "cell_type": "code",
   "execution_count": null,
   "metadata": {},
   "outputs": [],
   "source": []
  }
 ],
 "metadata": {
  "kernelspec": {
   "display_name": "alice_study",
   "language": "python",
   "name": "python3"
  },
  "language_info": {
   "codemirror_mode": {
    "name": "ipython",
    "version": 3
   },
   "file_extension": ".py",
   "mimetype": "text/x-python",
   "name": "python",
   "nbconvert_exporter": "python",
   "pygments_lexer": "ipython3",
   "version": "3.9.16"
  }
 },
 "nbformat": 4,
 "nbformat_minor": 2
}
